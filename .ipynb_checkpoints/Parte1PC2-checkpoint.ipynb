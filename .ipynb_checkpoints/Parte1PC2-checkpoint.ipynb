{
 "cells": [
  {
   "cell_type": "markdown",
   "id": "d9164af4-30d3-48ae-b7d8-4f17110bc76d",
   "metadata": {},
   "source": [
    "## Parte 1"
   ]
  },
  {
   "cell_type": "markdown",
   "id": "fede174a-7ee8-4520-bafc-8694d3cde448",
   "metadata": {},
   "source": [
    "Escribe una función que acepte una cadena que contenga todas las letras del alfabeto excepto una y devuelva la letra que falta. Por ejemplo, la cadena the quick brown box jumps over a lazy dog contiene todas las letras del alfabeto excepto la letra f. La función debe tener una complejidad temporal de O(n)."
   ]
  },
  {
   "cell_type": "code",
   "execution_count": 24,
   "id": "06b3e66b-3256-4750-928f-55989bb905c4",
   "metadata": {},
   "outputs": [
    {
     "name": "stdout",
     "output_type": "stream",
     "text": [
      "La letra faltante es: \n",
      "\"f\"\n"
     ]
    },
    {
     "data": {
      "text/plain": [
       "\"f\""
      ]
     },
     "execution_count": 24,
     "metadata": {},
     "output_type": "execute_result"
    }
   ],
   "source": [
    "# Cadena con todas las letras del alfabeto excepto una\n",
    "\n",
    "def letra_faltante(cadena)\n",
    "    alfabeto = ['a','b','c','d','e','f','g','h','i','j','k','l','m','n','o','p','q','r','s','t','u','v','w','x','y','z']\n",
    "    letras = [] # array con todas las letras a comparar\n",
    "    cadena.each_char do |letra| \n",
    "        if letra =~ /^[a-zA-Z]/ \n",
    "            if !letras.include?(letra)\n",
    "                letras.append(letra)\n",
    "            end\n",
    "        end\n",
    "    end\n",
    "    cantidadLetras = 0\n",
    "    letras.each{|letra| cantidadLetras+=1}\n",
    "    if cantidadLetras==25\n",
    "        letras.each do |letra|\n",
    "            alfabeto.delete(letra)\n",
    "        end\n",
    "        letra_faltante = alfabeto[0]\n",
    "        puts \"La letra faltante es: \"\n",
    "        p letra_faltante\n",
    "    else \n",
    "        raise ArgumentError,\"No se acepta esa cadena\"\n",
    "    end\n",
    "    # Cantidad de letras 25 ya que faltaria una\n",
    "end\n",
    "\n",
    "letra_faltante(\"the quick brown box jumps over a lazy dog\")"
   ]
  },
  {
   "cell_type": "markdown",
   "id": "389bbf7a-b669-4e6b-aa96-ea394cd7f4bb",
   "metadata": {},
   "source": [
    "Un árbol binario ordenado es aquel en el que cada nodo tiene un valor y hasta 2 hijos, cada uno de los cuales es también un árbol binario ordenado, y el valor de cualquier elemento del subárbol izquierdo de un nodo es menor que el valor de cualquier elemento en el subárbol derecho del nodo. Defina una clase colección llamada BinaryTree que ofrezca los métodos de instancia << (insertar elemento), empty? (devuelve cierto si el árbol no tiene elementos) y each (el iterador estándar que devuelve un elemento cada vez, en el orden que tú quieras"
   ]
  },
  {
   "cell_type": "code",
   "execution_count": 9,
   "id": "af2af61f-11c7-46d5-b1e4-974df04b1f30",
   "metadata": {},
   "outputs": [
    {
     "name": "stdout",
     "output_type": "stream",
     "text": [
      "1\n",
      "3\n",
      "4\n",
      "5\n",
      "10\n",
      "12\n"
     ]
    }
   ],
   "source": [
    "class BinaryTree\n",
    "    attr_accessor :raiz, :NodoHijoIzquierdo, :NodoHijoDerecho\n",
    "    # Inicia todos los atributos en nil\n",
    "    def initialize\n",
    "    end\n",
    "    def << (nodo)\n",
    "        if @raiz.nil?\n",
    "            @raiz = nodo\n",
    "        else \n",
    "            if nodo < @raiz\n",
    "                if @NodoHijoIzquierdo.nil?\n",
    "                    @NodoHijoIzquierdo = BinaryTree.new\n",
    "                    @NodoHijoIzquierdo.raiz = nodo\n",
    "                else\n",
    "                    @NodoHijoIzquierdo << nodo\n",
    "                end\n",
    "            else \n",
    "                if @NodoHijoDerecho.nil?\n",
    "                    @NodoHijoDerecho = BinaryTree.new\n",
    "                    @NodoHijoDerecho.raiz = nodo\n",
    "                else\n",
    "                    @NodoHijoDerecho << nodo\n",
    "                end\n",
    "            end\n",
    "        end\n",
    "        # Para ir agregando nodos, hay que tomar en cuenta que cada nodo debe ser un nuevo arbol porque este posteriormente si se agregan más tendra hijos\n",
    "    end\n",
    "    \n",
    "    def empty?\n",
    "        # Si no tiene nodos aparte de la raiz esta vacio\n",
    "        if @NodoHijoDerecho.nil? and @NodoHijoIzquierdo.nil? and @raiz.nil?\n",
    "            return true\n",
    "        end\n",
    "        false\n",
    "    end\n",
    "    # Imprime el nodo izquierdo raiz y el nodo derecho, si el nodo derecho o izquierdo es otro arbol hace lo mismo hasta que obtenga un nodo que no genera un arbol con hijos\n",
    "    def each\n",
    "        if @NodoHijoIzquierdo.is_a?(BinaryTree)\n",
    "            @NodoHijoIzquierdo.each\n",
    "        else \n",
    "            if !@NodoHijoIzquierdo.nil?\n",
    "                p @NodoHijoIzquierdo\n",
    "            end\n",
    "        end\n",
    "        p @raiz\n",
    "        if @NodoHijoDerecho.is_a?(BinaryTree)\n",
    "            @NodoHijoDerecho.each\n",
    "        else\n",
    "            if !@NodoHijoDerecho.nil?\n",
    "                p @NodoHijoDerecho\n",
    "            end\n",
    "        end\n",
    "    end\n",
    "end\n",
    "\n",
    "\n",
    "arbolbinario = BinaryTree.new\n",
    "arbolbinario << 5\n",
    "arbolbinario << 3\n",
    "arbolbinario << 10\n",
    "arbolbinario << 1\n",
    "arbolbinario << 4\n",
    "arbolbinario << 12\n",
    "arbolbinario.each"
   ]
  },
  {
   "cell_type": "markdown",
   "id": "48db68a8-aa45-4c51-ad55-7610089b4c2f",
   "metadata": {},
   "source": [
    "Extiende la clase de tu árbol binario ordenado para que ofrezca los siguientes métodos, cada uno de los cuales toma un bloque: include?(elt) (devuelve cierto si el árbol incluye a elt), all? (cierto si un bloque dado es cierto para todos los elementos), any? (cierto si un bloque dado es cierto para alguno de sus elementos), sort (ordena los elementos)"
   ]
  },
  {
   "cell_type": "code",
   "execution_count": 8,
   "id": "7227ac28-c733-4df9-9a8e-117d8d0d95a4",
   "metadata": {},
   "outputs": [
    {
     "name": "stdout",
     "output_type": "stream",
     "text": [
      "1\n",
      "3\n",
      "4\n",
      "5\n",
      "10\n",
      "12\n",
      "false\n",
      "true\n",
      "true\n"
     ]
    },
    {
     "data": {
      "text/plain": [
       "[1, 3, 4, 5, 10, 12]"
      ]
     },
     "execution_count": 8,
     "metadata": {},
     "output_type": "execute_result"
    }
   ],
   "source": [
    "class BinaryTree\n",
    "    attr_accessor :raiz, :NodoHijoIzquierdo, :NodoHijoDerecho\n",
    "    # Inicia todos los atributos con nil\n",
    "    def initialize\n",
    "    end\n",
    "    def << (nodo)\n",
    "        if @raiz.nil?\n",
    "            @raiz = nodo\n",
    "        else \n",
    "            if nodo < @raiz\n",
    "                if @NodoHijoIzquierdo.nil?\n",
    "                    @NodoHijoIzquierdo = BinaryTree.new\n",
    "                    @NodoHijoIzquierdo.raiz = nodo\n",
    "                else\n",
    "                    @NodoHijoIzquierdo << nodo\n",
    "                end\n",
    "            else \n",
    "                if @NodoHijoDerecho.nil?\n",
    "                    @NodoHijoDerecho = BinaryTree.new\n",
    "                    @NodoHijoDerecho.raiz = nodo\n",
    "                else\n",
    "                    @NodoHijoDerecho << nodo\n",
    "                end\n",
    "            end\n",
    "        end\n",
    "        # Para ir agregando nodos, hay que tomar en cuenta que cada nodo debe ser un nuevo arbol porque este posteriormente si se agregan más tendra hijos\n",
    "    end\n",
    "    \n",
    "    def empty?\n",
    "        # Si no tiene nodos aparte de la raiz esta vacio\n",
    "        if @NodoHijoDerecho.nil? and @NodoHijoIzquierdo.nil? and @raiz.nil?\n",
    "            return true\n",
    "        end\n",
    "        false\n",
    "    end\n",
    "    \n",
    "    def each\n",
    "        # Imprime el nodo izquierdo raiz y el nodo derecho, si el nodo derecho o izquierdo es otro arbol hace lo mismo hasta que obtenga un nodo que no genera un arbol con hijos\n",
    "        if @NodoHijoIzquierdo.is_a?(BinaryTree)\n",
    "            @NodoHijoIzquierdo.each\n",
    "        else \n",
    "            if !@NodoHijoIzquierdo.nil?\n",
    "                p @NodoHijoIzquierdo\n",
    "            end\n",
    "        end\n",
    "        p @raiz\n",
    "        if @NodoHijoDerecho.is_a?(BinaryTree)\n",
    "            @NodoHijoDerecho.each\n",
    "        else\n",
    "            if !@NodoHijoDerecho.nil?\n",
    "                p @NodoHijoDerecho\n",
    "            end\n",
    "        end\n",
    "    end\n",
    "\n",
    "    def include?(elt)\n",
    "        # Verifica para el lado derecho e izquierdo, hasta que encuentre solo la raiz\n",
    "        if @NodoHijoIzquierdo.is_a?(BinaryTree) and @NodoHijoIzquierdo.include?(elt)\n",
    "            return true\n",
    "        elsif @NodoHijoDerecho.is_a?(BinaryTree) and @NodoHijoDerecho.include?(elt)\n",
    "            return true\n",
    "        else\n",
    "            return @raiz == elt\n",
    "        end\n",
    "    end\n",
    "\n",
    "    def all?(&block)\n",
    "        # Si alguno no lo cumple es false sino true, y el recorrido es similar al que se hizo en include?\n",
    "       if @NodoHijoIzquierdo.is_a?(BinaryTree) and !@NodoHijoIzquierdo.all?(&block)\n",
    "            return false\n",
    "        elsif @NodoHijoDerecho.is_a?(BinaryTree) and !@NodoHijoDerecho.all?(&block)\n",
    "            return false\n",
    "        else\n",
    "            if !(block.call(@raiz))\n",
    "                return false\n",
    "            end\n",
    "        end\n",
    "        true\n",
    "    end\n",
    "\n",
    "    def any?(&block)\n",
    "        # Similar al metodo all?\n",
    "        if @NodoHijoIzquierdo.is_a?(BinaryTree) and @NodoHijoIzquierdo.any?(&block)\n",
    "            return true\n",
    "        elsif @NodoHijoDerecho.is_a?(BinaryTree) and @NodoHijoDerecho.include?(&block)\n",
    "            return true\n",
    "        else\n",
    "            if block.call(@raiz)\n",
    "                return true\n",
    "            end\n",
    "        end\n",
    "        false\n",
    "    end\n",
    "\n",
    "    def sort\n",
    "        # debe retornar un array, ya que asi sería más sencillo ordenarlo\n",
    "        # cada nodo hijo retornara un array que se va a ir agregando a la lista de elementos, hasta obtener una lista de elementos completa y a esta ordenarla con el método sort\n",
    "        listaElementos = []\n",
    "        if @NodoHijoIzquierdo.is_a?(BinaryTree)\n",
    "            listaElementos += @NodoHijoIzquierdo.sort\n",
    "        end\n",
    "        listaElementos.append(@raiz)\n",
    "        if @NodoHijoDerecho.is_a?(BinaryTree)\n",
    "            listaElementos += @NodoHijoDerecho.sort\n",
    "        end\n",
    "        return listaElementos.sort\n",
    "    end\n",
    "end\n",
    "\n",
    "\n",
    "arbolbinario = BinaryTree.new\n",
    "arbolbinario << 5\n",
    "arbolbinario << 3\n",
    "arbolbinario << 10\n",
    "arbolbinario << 1\n",
    "arbolbinario << 4\n",
    "arbolbinario << 12\n",
    "arbolbinario.each\n",
    "puts arbolbinario.include?(6)\n",
    "\n",
    "puts arbolbinario.all? {|nodo| nodo<20}\n",
    "puts arbolbinario.any? {|nodo| nodo<5}\n",
    "elementosOrdenados = arbolbinario.sort"
   ]
  },
  {
   "cell_type": "code",
   "execution_count": null,
   "id": "3aad7c3e-db3c-45b1-bd89-8553ffa6dd2e",
   "metadata": {},
   "outputs": [],
   "source": []
  }
 ],
 "metadata": {
  "kernelspec": {
   "display_name": "Ruby 3.0.2",
   "language": "ruby",
   "name": "ruby"
  },
  "language_info": {
   "file_extension": ".rb",
   "mimetype": "application/x-ruby",
   "name": "ruby",
   "version": "3.0.2"
  }
 },
 "nbformat": 4,
 "nbformat_minor": 5
}
